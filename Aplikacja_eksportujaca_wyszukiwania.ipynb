{
  "nbformat": 4,
  "nbformat_minor": 0,
  "metadata": {
    "colab": {
      "provenance": []
    },
    "kernelspec": {
      "name": "python3",
      "display_name": "Python 3"
    },
    "language_info": {
      "name": "python"
    }
  },
  "cells": [
    {
      "cell_type": "code",
      "execution_count": null,
      "metadata": {
        "colab": {
          "base_uri": "https://localhost:8080/"
        },
        "id": "rb5pF-mO5f0a",
        "outputId": "f567f7ec-5680-4583-c362-04d0da66da1f"
      },
      "outputs": [
        {
          "output_type": "stream",
          "name": "stdout",
          "text": [
            "Looking in indexes: https://pypi.org/simple, https://us-python.pkg.dev/colab-wheels/public/simple/\n",
            "Collecting pytrends\n",
            "  Downloading pytrends-4.9.2-py3-none-any.whl (15 kB)\n",
            "Requirement already satisfied: requests>=2.0 in /usr/local/lib/python3.10/dist-packages (from pytrends) (2.27.1)\n",
            "Requirement already satisfied: pandas>=0.25 in /usr/local/lib/python3.10/dist-packages (from pytrends) (1.5.3)\n",
            "Requirement already satisfied: lxml in /usr/local/lib/python3.10/dist-packages (from pytrends) (4.9.2)\n",
            "Requirement already satisfied: python-dateutil>=2.8.1 in /usr/local/lib/python3.10/dist-packages (from pandas>=0.25->pytrends) (2.8.2)\n",
            "Requirement already satisfied: pytz>=2020.1 in /usr/local/lib/python3.10/dist-packages (from pandas>=0.25->pytrends) (2022.7.1)\n",
            "Requirement already satisfied: numpy>=1.21.0 in /usr/local/lib/python3.10/dist-packages (from pandas>=0.25->pytrends) (1.22.4)\n",
            "Requirement already satisfied: urllib3<1.27,>=1.21.1 in /usr/local/lib/python3.10/dist-packages (from requests>=2.0->pytrends) (1.26.15)\n",
            "Requirement already satisfied: certifi>=2017.4.17 in /usr/local/lib/python3.10/dist-packages (from requests>=2.0->pytrends) (2022.12.7)\n",
            "Requirement already satisfied: charset-normalizer~=2.0.0 in /usr/local/lib/python3.10/dist-packages (from requests>=2.0->pytrends) (2.0.12)\n",
            "Requirement already satisfied: idna<4,>=2.5 in /usr/local/lib/python3.10/dist-packages (from requests>=2.0->pytrends) (3.4)\n",
            "Requirement already satisfied: six>=1.5 in /usr/local/lib/python3.10/dist-packages (from python-dateutil>=2.8.1->pandas>=0.25->pytrends) (1.16.0)\n",
            "Installing collected packages: pytrends\n",
            "Successfully installed pytrends-4.9.2\n"
          ]
        }
      ],
      "source": [
        "# Importowanie wymaganych bibliotek\n",
        "!pip install pytrends\n",
        "from google.colab import files\n",
        "import pytrends\n",
        "from pytrends.request import TrendReq\n",
        "import pandas as pd\n",
        "import matplotlib.pyplot as plt"
      ]
    },
    {
      "cell_type": "code",
      "source": [
        "#Symptomy chorób\n",
        "coronary_heart_disease = [\n",
        " 'heart attack',\n",
        " 'arrhythmia',\n",
        " 'blood clot',\n",
        " 'chest pain',\n",
        " 'coronary heart disease symptoms']\n",
        "\n",
        "flu_symptoms = [\n",
        "    'Fever',\n",
        "    'Sore throat',\n",
        "    'Runny nose',\n",
        "    'Cough',\n",
        "    'flu symptoms'\n",
        "]\n",
        "\n",
        "alzheimer_symptoms = [\n",
        "    'Memory loss',\n",
        "    'Confusion',\n",
        "    'disorientation',\n",
        "    'alzheimer symptoms'\n",
        "]\n",
        "\n",
        "diabetes_symptoms = [\n",
        "    'Frequent urination',\n",
        "    'Increased thirst',\n",
        "    'Unexplained weight loss',\n",
        "    'Increased hunger',\n",
        "    'diabetes symptoms'\n",
        "]\n",
        "\n",
        "asthma_symptoms = [\n",
        "    'Shortness of breath',\n",
        "    'asthma symptoms',\n",
        "    'Coughing',\n",
        "    'Chest tightness',\n",
        "    'Difficulty in breathing'\n",
        "    ]\n",
        "\n",
        "breast_cancer_symptoms = ['lump in breast',\n",
        " 'nipple discharge or retraction',\n",
        " 'skin dimpling or puckering',\n",
        " 'breast cancer symptoms']\n",
        "\n",
        "lung_cancer_symptoms = [\n",
        "    'Persistent cough',\n",
        "    'Coughing up blood',\n",
        "    'Hoarseness',\n",
        "    'Shortness of breath',\n",
        "    'lung cancer symptoms'\n",
        "    ]\n"
      ],
      "metadata": {
        "id": "Hk_o3efNLIgj"
      },
      "execution_count": null,
      "outputs": []
    },
    {
      "cell_type": "code",
      "source": [
        "#Pobieranie danych dla choroby wieńcowej serca\n",
        "\n",
        "pytrends = TrendReq(hl='en-US', tz=360)\n",
        "pytrends.build_payload(coronary_heart_disease, timeframe='today 5-y', geo='US')\n",
        "\n",
        "data = pytrends.interest_over_time()\n",
        "\n",
        "data.reset_index(inplace=True)\n",
        "\n",
        "output = pd.melt(data, id_vars=[ 'date', 'isPartial'], value_vars = coronary_heart_disease, var_name = 'NAZWA_OBJAWU', value_name='WARTOSC_WYSZUKIWANIA')\n",
        "output['date'] = pd.to_datetime(output['date'])\n",
        "\n",
        "\n",
        "output = output.rename(columns={'date': 'DATA', 'total': 'TOTAL'})\n",
        "output = output[['DATA', 'NAZWA_OBJAWU', 'WARTOSC_WYSZUKIWANIA', 'isPartial']]\n",
        "output = output.sort_values(by=['DATA', 'NAZWA_OBJAWU'], ascending=[True, True])\n",
        "\n",
        "output.to_csv('output_coronary_heart_disease.csv')\n",
        "files.download('output_coronary_heart_disease.csv')"
      ],
      "metadata": {
        "colab": {
          "base_uri": "https://localhost:8080/",
          "height": 17
        },
        "id": "TlvBigTcahKS",
        "outputId": "67736f87-20ff-487d-e263-134a98fece2a"
      },
      "execution_count": null,
      "outputs": [
        {
          "output_type": "display_data",
          "data": {
            "text/plain": [
              "<IPython.core.display.Javascript object>"
            ],
            "application/javascript": [
              "\n",
              "    async function download(id, filename, size) {\n",
              "      if (!google.colab.kernel.accessAllowed) {\n",
              "        return;\n",
              "      }\n",
              "      const div = document.createElement('div');\n",
              "      const label = document.createElement('label');\n",
              "      label.textContent = `Downloading \"${filename}\": `;\n",
              "      div.appendChild(label);\n",
              "      const progress = document.createElement('progress');\n",
              "      progress.max = size;\n",
              "      div.appendChild(progress);\n",
              "      document.body.appendChild(div);\n",
              "\n",
              "      const buffers = [];\n",
              "      let downloaded = 0;\n",
              "\n",
              "      const channel = await google.colab.kernel.comms.open(id);\n",
              "      // Send a message to notify the kernel that we're ready.\n",
              "      channel.send({})\n",
              "\n",
              "      for await (const message of channel.messages) {\n",
              "        // Send a message to notify the kernel that we're ready.\n",
              "        channel.send({})\n",
              "        if (message.buffers) {\n",
              "          for (const buffer of message.buffers) {\n",
              "            buffers.push(buffer);\n",
              "            downloaded += buffer.byteLength;\n",
              "            progress.value = downloaded;\n",
              "          }\n",
              "        }\n",
              "      }\n",
              "      const blob = new Blob(buffers, {type: 'application/binary'});\n",
              "      const a = document.createElement('a');\n",
              "      a.href = window.URL.createObjectURL(blob);\n",
              "      a.download = filename;\n",
              "      div.appendChild(a);\n",
              "      a.click();\n",
              "      div.remove();\n",
              "    }\n",
              "  "
            ]
          },
          "metadata": {}
        },
        {
          "output_type": "display_data",
          "data": {
            "text/plain": [
              "<IPython.core.display.Javascript object>"
            ],
            "application/javascript": [
              "download(\"download_13f5b8fc-639b-4cdc-8175-79227c7fa23e\", \"output_flu_symptoms.csv\", 43578)"
            ]
          },
          "metadata": {}
        }
      ]
    },
    {
      "cell_type": "code",
      "source": [
        "#Pobieranie danych dla grypy\n",
        "\n",
        "pytrends = TrendReq(hl='en-US', tz=360)\n",
        "pytrends.build_payload(flu_symptoms, timeframe='today 5-y', geo='US')\n",
        "\n",
        "data = pytrends.interest_over_time()\n",
        "\n",
        "data.reset_index(inplace=True)\n",
        "\n",
        "output = pd.melt(data, id_vars=[ 'date', 'isPartial'], value_vars = flu_symptoms, var_name = 'NAZWA_OBJAWU', value_name='WARTOSC_WYSZUKIWANIA')\n",
        "output['date'] = pd.to_datetime(output['date'])\n",
        "\n",
        "\n",
        "output = output.rename(columns={'date': 'DATA', 'total': 'TOTAL'})\n",
        "output = output[['DATA', 'NAZWA_OBJAWU', 'WARTOSC_WYSZUKIWANIA', 'isPartial']]\n",
        "output = output.sort_values(by=['DATA', 'NAZWA_OBJAWU'], ascending=[True, True])\n",
        "\n",
        "output.to_csv('output_flu_symptoms.csv')\n",
        "files.download('output_flu_symptoms.csv')"
      ],
      "metadata": {
        "id": "BcWMlILga3zi"
      },
      "execution_count": null,
      "outputs": []
    },
    {
      "cell_type": "code",
      "source": [
        "#Pobieranie danych dla choroby alzheimera\n",
        "\n",
        "pytrends = TrendReq(hl='en-US', tz=360)\n",
        "pytrends.build_payload(alzheimer_symptoms, timeframe='today 5-y', geo='US')\n",
        "\n",
        "data = pytrends.interest_over_time()\n",
        "\n",
        "data.reset_index(inplace=True)\n",
        "\n",
        "output = pd.melt(data, id_vars=[ 'date', 'isPartial'], value_vars = alzheimer_symptoms, var_name = 'NAZWA_OBJAWU', value_name='WARTOSC_WYSZUKIWANIA')\n",
        "output['date'] = pd.to_datetime(output['date'])\n",
        "\n",
        "\n",
        "output = output.rename(columns={'date': 'DATA', 'total': 'TOTAL'})\n",
        "output = output[['DATA', 'NAZWA_OBJAWU', 'WARTOSC_WYSZUKIWANIA', 'isPartial']]\n",
        "output = output.sort_values(by=['DATA', 'NAZWA_OBJAWU'], ascending=[True, True])\n",
        "\n",
        "output.to_csv('output_alzheimer.csv')\n",
        "files.download('output_alzheimer.csv')"
      ],
      "metadata": {
        "id": "gIx4-ghsE1oN"
      },
      "execution_count": null,
      "outputs": []
    },
    {
      "cell_type": "code",
      "source": [
        "#Pobieranie danych dla cukrzycy\n",
        "\n",
        "pytrends = TrendReq(hl='en-US', tz=360)\n",
        "pytrends.build_payload(diabetes_symptoms, timeframe='today 5-y', geo='US')\n",
        "\n",
        "data = pytrends.interest_over_time()\n",
        "\n",
        "data.reset_index(inplace=True)\n",
        "\n",
        "output = pd.melt(data, id_vars=[ 'date', 'isPartial'], value_vars = diabetes_symptoms, var_name = 'NAZWA_OBJAWU', value_name='WARTOSC_WYSZUKIWANIA')\n",
        "output['date'] = pd.to_datetime(output['date'])\n",
        "\n",
        "\n",
        "output = output.rename(columns={'date': 'DATA', 'total': 'TOTAL'})\n",
        "output = output[['DATA', 'NAZWA_OBJAWU', 'WARTOSC_WYSZUKIWANIA', 'isPartial']]\n",
        "output = output.sort_values(by=['DATA', 'NAZWA_OBJAWU'], ascending=[True, True])\n",
        "\n",
        "output.to_csv('output_diabetes_symptoms.csv')\n",
        "files.download('output_diabetes_symptoms.csv')"
      ],
      "metadata": {
        "colab": {
          "base_uri": "https://localhost:8080/",
          "height": 17
        },
        "id": "1M2NVmjdFkVr",
        "outputId": "4d8b91d1-be4e-4072-9af8-2075e9e68527"
      },
      "execution_count": null,
      "outputs": [
        {
          "output_type": "display_data",
          "data": {
            "text/plain": [
              "<IPython.core.display.Javascript object>"
            ],
            "application/javascript": [
              "\n",
              "    async function download(id, filename, size) {\n",
              "      if (!google.colab.kernel.accessAllowed) {\n",
              "        return;\n",
              "      }\n",
              "      const div = document.createElement('div');\n",
              "      const label = document.createElement('label');\n",
              "      label.textContent = `Downloading \"${filename}\": `;\n",
              "      div.appendChild(label);\n",
              "      const progress = document.createElement('progress');\n",
              "      progress.max = size;\n",
              "      div.appendChild(progress);\n",
              "      document.body.appendChild(div);\n",
              "\n",
              "      const buffers = [];\n",
              "      let downloaded = 0;\n",
              "\n",
              "      const channel = await google.colab.kernel.comms.open(id);\n",
              "      // Send a message to notify the kernel that we're ready.\n",
              "      channel.send({})\n",
              "\n",
              "      for await (const message of channel.messages) {\n",
              "        // Send a message to notify the kernel that we're ready.\n",
              "        channel.send({})\n",
              "        if (message.buffers) {\n",
              "          for (const buffer of message.buffers) {\n",
              "            buffers.push(buffer);\n",
              "            downloaded += buffer.byteLength;\n",
              "            progress.value = downloaded;\n",
              "          }\n",
              "        }\n",
              "      }\n",
              "      const blob = new Blob(buffers, {type: 'application/binary'});\n",
              "      const a = document.createElement('a');\n",
              "      a.href = window.URL.createObjectURL(blob);\n",
              "      a.download = filename;\n",
              "      div.appendChild(a);\n",
              "      a.click();\n",
              "      div.remove();\n",
              "    }\n",
              "  "
            ]
          },
          "metadata": {}
        },
        {
          "output_type": "display_data",
          "data": {
            "text/plain": [
              "<IPython.core.display.Javascript object>"
            ],
            "application/javascript": [
              "download(\"download_d3db7fe2-2dae-46bf-a1d9-28b9e45863ab\", \"output_diabetes_symptoms.csv\", 55573)"
            ]
          },
          "metadata": {}
        }
      ]
    },
    {
      "cell_type": "code",
      "source": [
        "#Pobieranie danych dla astmy\n",
        "\n",
        "pytrends = TrendReq(hl='en-US', tz=360)\n",
        "pytrends.build_payload(asthma_symptoms, timeframe='today 5-y', geo='US')\n",
        "\n",
        "data = pytrends.interest_over_time()\n",
        "\n",
        "data.reset_index(inplace=True)\n",
        "\n",
        "output = pd.melt(data, id_vars=[ 'date', 'isPartial'], value_vars = asthma_symptoms, var_name = 'NAZWA_OBJAWU', value_name='WARTOSC_WYSZUKIWANIA')\n",
        "output['date'] = pd.to_datetime(output['date'])\n",
        "\n",
        "\n",
        "output = output.rename(columns={'date': 'DATA', 'total': 'TOTAL'})\n",
        "output = output[['DATA', 'NAZWA_OBJAWU', 'WARTOSC_WYSZUKIWANIA', 'isPartial']]\n",
        "output = output.sort_values(by=['DATA', 'NAZWA_OBJAWU'], ascending=[True, True])\n",
        "\n",
        "output.to_csv('output_asthma_symptoms.csv')\n",
        "files.download('output_asthma_symptoms.csv')"
      ],
      "metadata": {
        "colab": {
          "base_uri": "https://localhost:8080/",
          "height": 17
        },
        "id": "mP-xh2AvRrsS",
        "outputId": "10e19cc4-a1db-494f-e7a3-6d157f1860d6"
      },
      "execution_count": null,
      "outputs": [
        {
          "output_type": "display_data",
          "data": {
            "text/plain": [
              "<IPython.core.display.Javascript object>"
            ],
            "application/javascript": [
              "\n",
              "    async function download(id, filename, size) {\n",
              "      if (!google.colab.kernel.accessAllowed) {\n",
              "        return;\n",
              "      }\n",
              "      const div = document.createElement('div');\n",
              "      const label = document.createElement('label');\n",
              "      label.textContent = `Downloading \"${filename}\": `;\n",
              "      div.appendChild(label);\n",
              "      const progress = document.createElement('progress');\n",
              "      progress.max = size;\n",
              "      div.appendChild(progress);\n",
              "      document.body.appendChild(div);\n",
              "\n",
              "      const buffers = [];\n",
              "      let downloaded = 0;\n",
              "\n",
              "      const channel = await google.colab.kernel.comms.open(id);\n",
              "      // Send a message to notify the kernel that we're ready.\n",
              "      channel.send({})\n",
              "\n",
              "      for await (const message of channel.messages) {\n",
              "        // Send a message to notify the kernel that we're ready.\n",
              "        channel.send({})\n",
              "        if (message.buffers) {\n",
              "          for (const buffer of message.buffers) {\n",
              "            buffers.push(buffer);\n",
              "            downloaded += buffer.byteLength;\n",
              "            progress.value = downloaded;\n",
              "          }\n",
              "        }\n",
              "      }\n",
              "      const blob = new Blob(buffers, {type: 'application/binary'});\n",
              "      const a = document.createElement('a');\n",
              "      a.href = window.URL.createObjectURL(blob);\n",
              "      a.download = filename;\n",
              "      div.appendChild(a);\n",
              "      a.click();\n",
              "      div.remove();\n",
              "    }\n",
              "  "
            ]
          },
          "metadata": {}
        },
        {
          "output_type": "display_data",
          "data": {
            "text/plain": [
              "<IPython.core.display.Javascript object>"
            ],
            "application/javascript": [
              "download(\"download_9fb69e82-cc6b-440d-bcbd-2ecb3dc1914a\", \"output_asthma_symptoms.csv\", 52973)"
            ]
          },
          "metadata": {}
        }
      ]
    },
    {
      "cell_type": "code",
      "source": [
        "#Pobieranie danych dla raka piersi\n",
        "\n",
        "pytrends = TrendReq(hl='en-US', tz=360)\n",
        "pytrends.build_payload(breast_cancer_symptoms, timeframe='today 5-y', geo='US')\n",
        "\n",
        "data = pytrends.interest_over_time()\n",
        "\n",
        "data.reset_index(inplace=True)\n",
        "\n",
        "output = pd.melt(data, id_vars=[ 'date', 'isPartial'], value_vars = breast_cancer_symptoms, var_name = 'NAZWA_OBJAWU', value_name='WARTOSC_WYSZUKIWANIA')\n",
        "output['date'] = pd.to_datetime(output['date'])\n",
        "\n",
        "\n",
        "output = output.rename(columns={'date': 'DATA', 'total': 'TOTAL'})\n",
        "output = output[['DATA', 'NAZWA_OBJAWU', 'WARTOSC_WYSZUKIWANIA', 'isPartial']]\n",
        "output = output.sort_values(by=['DATA', 'NAZWA_OBJAWU'], ascending=[True, True])\n",
        "\n",
        "output.to_csv('output_breast_cancer_symptoms.csv')\n",
        "files.download('output_breast_cancer_symptoms.csv')"
      ],
      "metadata": {
        "colab": {
          "base_uri": "https://localhost:8080/",
          "height": 17
        },
        "id": "-hVX1sCFTRd4",
        "outputId": "8462945f-f790-42d6-f3d8-4da124b3e9cb"
      },
      "execution_count": null,
      "outputs": [
        {
          "output_type": "display_data",
          "data": {
            "text/plain": [
              "<IPython.core.display.Javascript object>"
            ],
            "application/javascript": [
              "\n",
              "    async function download(id, filename, size) {\n",
              "      if (!google.colab.kernel.accessAllowed) {\n",
              "        return;\n",
              "      }\n",
              "      const div = document.createElement('div');\n",
              "      const label = document.createElement('label');\n",
              "      label.textContent = `Downloading \"${filename}\": `;\n",
              "      div.appendChild(label);\n",
              "      const progress = document.createElement('progress');\n",
              "      progress.max = size;\n",
              "      div.appendChild(progress);\n",
              "      document.body.appendChild(div);\n",
              "\n",
              "      const buffers = [];\n",
              "      let downloaded = 0;\n",
              "\n",
              "      const channel = await google.colab.kernel.comms.open(id);\n",
              "      // Send a message to notify the kernel that we're ready.\n",
              "      channel.send({})\n",
              "\n",
              "      for await (const message of channel.messages) {\n",
              "        // Send a message to notify the kernel that we're ready.\n",
              "        channel.send({})\n",
              "        if (message.buffers) {\n",
              "          for (const buffer of message.buffers) {\n",
              "            buffers.push(buffer);\n",
              "            downloaded += buffer.byteLength;\n",
              "            progress.value = downloaded;\n",
              "          }\n",
              "        }\n",
              "      }\n",
              "      const blob = new Blob(buffers, {type: 'application/binary'});\n",
              "      const a = document.createElement('a');\n",
              "      a.href = window.URL.createObjectURL(blob);\n",
              "      a.download = filename;\n",
              "      div.appendChild(a);\n",
              "      a.click();\n",
              "      div.remove();\n",
              "    }\n",
              "  "
            ]
          },
          "metadata": {}
        },
        {
          "output_type": "display_data",
          "data": {
            "text/plain": [
              "<IPython.core.display.Javascript object>"
            ],
            "application/javascript": [
              "download(\"download_40b0633c-1031-4a98-b1f5-7a88fccd3438\", \"output_breast_cancer_symptoms.csv\", 49571)"
            ]
          },
          "metadata": {}
        }
      ]
    },
    {
      "cell_type": "code",
      "source": [
        "#Pobieranie danych dla raka płuc\n",
        "\n",
        "pytrends = TrendReq(hl='en-US', tz=360)\n",
        "pytrends.build_payload(lung_cancer_symptoms, timeframe='today 5-y', geo='US')\n",
        "\n",
        "data = pytrends.interest_over_time()\n",
        "\n",
        "data.reset_index(inplace=True)\n",
        "\n",
        "output = pd.melt(data, id_vars=[ 'date', 'isPartial'], value_vars = lung_cancer_symptoms, var_name = 'NAZWA_OBJAWU', value_name='WARTOSC_WYSZUKIWANIA')\n",
        "output['date'] = pd.to_datetime(output['date'])\n",
        "\n",
        "\n",
        "output = output.rename(columns={'date': 'DATA', 'total': 'TOTAL'})\n",
        "output = output[['DATA', 'NAZWA_OBJAWU', 'WARTOSC_WYSZUKIWANIA', 'isPartial']]\n",
        "output = output.sort_values(by=['DATA', 'NAZWA_OBJAWU'], ascending=[True, True])\n",
        "\n",
        "output.to_csv('output_lung_cancer_symptoms.csv')\n",
        "files.download('output_lung_cancer_symptoms.csv')"
      ],
      "metadata": {
        "colab": {
          "base_uri": "https://localhost:8080/",
          "height": 17
        },
        "id": "Qz0IuWcsY6Ua",
        "outputId": "6b1eddee-40d8-4b71-80e5-804063fe2acf"
      },
      "execution_count": null,
      "outputs": [
        {
          "output_type": "display_data",
          "data": {
            "text/plain": [
              "<IPython.core.display.Javascript object>"
            ],
            "application/javascript": [
              "\n",
              "    async function download(id, filename, size) {\n",
              "      if (!google.colab.kernel.accessAllowed) {\n",
              "        return;\n",
              "      }\n",
              "      const div = document.createElement('div');\n",
              "      const label = document.createElement('label');\n",
              "      label.textContent = `Downloading \"${filename}\": `;\n",
              "      div.appendChild(label);\n",
              "      const progress = document.createElement('progress');\n",
              "      progress.max = size;\n",
              "      div.appendChild(progress);\n",
              "      document.body.appendChild(div);\n",
              "\n",
              "      const buffers = [];\n",
              "      let downloaded = 0;\n",
              "\n",
              "      const channel = await google.colab.kernel.comms.open(id);\n",
              "      // Send a message to notify the kernel that we're ready.\n",
              "      channel.send({})\n",
              "\n",
              "      for await (const message of channel.messages) {\n",
              "        // Send a message to notify the kernel that we're ready.\n",
              "        channel.send({})\n",
              "        if (message.buffers) {\n",
              "          for (const buffer of message.buffers) {\n",
              "            buffers.push(buffer);\n",
              "            downloaded += buffer.byteLength;\n",
              "            progress.value = downloaded;\n",
              "          }\n",
              "        }\n",
              "      }\n",
              "      const blob = new Blob(buffers, {type: 'application/binary'});\n",
              "      const a = document.createElement('a');\n",
              "      a.href = window.URL.createObjectURL(blob);\n",
              "      a.download = filename;\n",
              "      div.appendChild(a);\n",
              "      a.click();\n",
              "      div.remove();\n",
              "    }\n",
              "  "
            ]
          },
          "metadata": {}
        },
        {
          "output_type": "display_data",
          "data": {
            "text/plain": [
              "<IPython.core.display.Javascript object>"
            ],
            "application/javascript": [
              "download(\"download_17b61b13-cf98-4f11-ab32-e1ad71170e47\", \"output_lung_cancer_symptoms.csv\", 53228)"
            ]
          },
          "metadata": {}
        }
      ]
    }
  ]
}